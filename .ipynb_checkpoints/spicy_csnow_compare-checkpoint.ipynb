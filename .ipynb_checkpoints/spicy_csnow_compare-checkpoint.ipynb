{
 "cells": [
  {
   "cell_type": "code",
   "execution_count": 5,
   "id": "03ece9c3-37a2-4ae5-bdd0-91661f61daf7",
   "metadata": {},
   "outputs": [],
   "source": [
    "from pathlib import Path\n",
    "\n",
    "# Add main repo to path if you haven't added with conda-develop\n",
    "# import sys\n",
    "# sys.path.append('path/to/the/spicy-snow/')\n",
    "\n",
    "import shapely\n",
    "from spicy_snow.retrieval import retrieve_snow_depth\n",
    "from spicy_snow.IO.user_dates import get_input_dates"
   ]
  },
  {
   "cell_type": "code",
   "execution_count": 6,
   "id": "50f93c31-a9ba-47ab-901c-c87dec0d7014",
   "metadata": {},
   "outputs": [],
   "source": [
    "# change to your minimum longitude, min lat, max long, max lat\n",
    "area = shapely.geometry.box(-113.2, 43, -113, 43.4)\n",
    "\n",
    "# this will be where your results are saved\n",
    "out_nc = Path('/Users/jtarrico/spicy/rasters/spicy-test/test2.nc').expanduser()\n",
    "\n",
    "# this will generate a tuple of dates from the previous August 1st to this date\n",
    "# dates = get_input_dates('2020-01-20') # run on all s1 images from (2020-08-01, 2021-04-01) in this example\n",
    "# dates"
   ]
  },
  {
   "cell_type": "code",
   "execution_count": 9,
   "id": "acd5be00-4851-4da6-b625-3bbebda651b0",
   "metadata": {},
   "outputs": [],
   "source": [
    "dates = ('2020-01-20', '2020-02-20')"
   ]
  },
  {
   "cell_type": "code",
   "execution_count": 8,
   "id": "efe5e310-e9f4-4abc-947d-8e98c2f4c17f",
   "metadata": {},
   "outputs": [
    {
     "data": {
      "text/plain": [
       "tuple"
      ]
     },
     "execution_count": 8,
     "metadata": {},
     "output_type": "execute_result"
    }
   ],
   "source": [
    "type(dates)"
   ]
  },
  {
   "cell_type": "code",
   "execution_count": null,
   "id": "5acd0178-9ac0-495d-8b88-409930b1c95c",
   "metadata": {},
   "outputs": [],
   "source": [
    "spicy_ds = retrieve_snow_depth(area = area, dates = dates, \n",
    "                               work_dir = Path('/Users/jtarrico/spicy/rasters/spicy-test/').expanduser(), \n",
    "                               job_name = f'testing_spicy_v2',\n",
    "                               existing_job_name = 'testing_spicy_v2,\n",
    "                               debug=False,\n",
    "                               outfp=out_nc)"
   ]
  },
  {
   "cell_type": "code",
   "execution_count": 3,
   "id": "ec9306fd-cf6a-41c7-8ac2-317b386390d3",
   "metadata": {},
   "outputs": [
    {
     "ename": "NameError",
     "evalue": "name 'spicy_ds' is not defined",
     "output_type": "error",
     "traceback": [
      "\u001b[0;31m---------------------------------------------------------------------------\u001b[0m",
      "\u001b[0;31mNameError\u001b[0m                                 Traceback (most recent call last)",
      "Cell \u001b[0;32mIn[3], line 1\u001b[0m\n\u001b[0;32m----> 1\u001b[0m \u001b[43mspicy_ds\u001b[49m\n",
      "\u001b[0;31mNameError\u001b[0m: name 'spicy_ds' is not defined"
     ]
    }
   ],
   "source": [
    "spicy_ds"
   ]
  }
 ],
 "metadata": {
  "kernelspec": {
   "display_name": "Python 3 (ipykernel)",
   "language": "python",
   "name": "python3"
  },
  "language_info": {
   "codemirror_mode": {
    "name": "ipython",
    "version": 3
   },
   "file_extension": ".py",
   "mimetype": "text/x-python",
   "name": "python",
   "nbconvert_exporter": "python",
   "pygments_lexer": "ipython3",
   "version": "3.12.0"
  }
 },
 "nbformat": 4,
 "nbformat_minor": 5
}
